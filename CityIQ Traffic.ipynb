{
 "cells": [
  {
   "cell_type": "markdown",
   "metadata": {},
   "source": [
    "## CityIQ Traffic\n",
    "\n",
    "Obtain traffic data from the corner of Cherokee and Adams"
   ]
  },
  {
   "cell_type": "markdown",
   "metadata": {},
   "source": [
    "Import libraries"
   ]
  },
  {
   "cell_type": "code",
   "execution_count": 3,
   "metadata": {
    "scrolled": false
   },
   "outputs": [],
   "source": [
    "import json\n",
    "import base64\n",
    "import requests\n",
    "from pandas.io.json import json_normalize\n",
    "import pandas as pd\n",
    "import matplotlib.pyplot as plt\n",
    "import seaborn as sns\n",
    "# You may need to run \"pip3 install PyQt5\" for %matplotlib qt to run properly\n",
    "%matplotlib qt\n",
    "sns.set(style=\"whitegrid\", palette=\"tab10\")"
   ]
  },
  {
   "cell_type": "markdown",
   "metadata": {},
   "source": [
    "Define functions:  \n",
    "+ Auth Token (used for all future access)\n",
    "+ Assets (meta data for the device)\n",
    "+ Event Data (temporal monitoring data)"
   ]
  },
  {
   "cell_type": "code",
   "execution_count": 4,
   "metadata": {},
   "outputs": [],
   "source": [
    "def get_client_token(client, secret):\n",
    "    uri = 'https://auth.aa.cityiq.io/oauth/token'\n",
    "    #credentials = base64.b64encode(client + ':' + secret)\n",
    "    string = client + ':' + secret\n",
    "    credentials = base64.urlsafe_b64encode(string.encode('UTF-8')).decode('ascii')\n",
    "    headers = {\n",
    "        'Content-Type': 'application/x-www-form-urlencoded',\n",
    "        'Cache-Control': 'no-cache',\n",
    "        'Authorization': 'Basic ' + credentials\n",
    "    }\n",
    "    params = {\n",
    "        'grant_type': 'client_credentials'\n",
    "    }\n",
    "\n",
    "    response = requests.post(uri, headers=headers, params=params)\n",
    "    return json.loads(response.text)['access_token']"
   ]
  },
  {
   "cell_type": "code",
   "execution_count": 5,
   "metadata": {},
   "outputs": [],
   "source": [
    "def get_assets(token):\n",
    "    uri = 'https://sandiego.cityiq.io/api/v2/metadata/assets/search'\n",
    "    headers = {\n",
    "       'Content-Type': 'application/x-www-form-urlencoded',\n",
    "       'Predix-Zone-Id': 'SD-IE-TRAFFIC',\n",
    "       'Authorization': 'bearer ' + token\n",
    "       }\n",
    "\n",
    "    # Bounding Box for monitors in Normal Heights\n",
    "    params = {\n",
    "        'bbox': '32.775904:-117.109044,32.755429:-117.130248',\n",
    "        'page': 0,\n",
    "        'size': 200,\n",
    "        'startts': '1578523871727',\n",
    "        'endts': '1578610271727',\n",
    "        'q': 'eventTypes:TFEVT'\n",
    "        }\n",
    "\n",
    "    response = requests.get(uri, headers=headers, params=params)     \n",
    "    data = json.loads(response.text)\n",
    "    return data"
   ]
  },
  {
   "cell_type": "code",
   "execution_count": 6,
   "metadata": {},
   "outputs": [],
   "source": [
    "def get_event_data(token):\n",
    "    # uri contans the asset ID for a specific monitor\n",
    "    asset = '3ea8cf80-d265-4415-8496-d51afa72517d'\n",
    "    uri = 'https://sandiego.cityiq.io/api/v2/event/assets/' + asset + '/events'\n",
    "\n",
    "    headers = {\n",
    "       'Content-Type': 'application/x-www-form-urlencoded',\n",
    "       'Predix-Zone-Id': 'SD-IE-TRAFFIC',\n",
    "       'Authorization': 'bearer ' + token\n",
    "       }\n",
    "\n",
    "    # Limit to traffic events ina specific time frame\n",
    "    params = {\n",
    "        'eventType': 'TFEVT',\n",
    "        # Dec 8 2019 00:00:00\n",
    "        'startTime': '1575792000000',\n",
    "        # Dec 15 2019 00:00:00\n",
    "        'endTime': '1576396800000',\n",
    "        'pageSize': '10000'\n",
    "    }\n",
    "\n",
    "    response = requests.get(uri, headers=headers, params=params)     \n",
    "    data = json.loads(response.text)\n",
    "    return data"
   ]
  },
  {
   "cell_type": "markdown",
   "metadata": {},
   "source": [
    "Get the token for auth"
   ]
  },
  {
   "cell_type": "code",
   "execution_count": 7,
   "metadata": {},
   "outputs": [],
   "source": [
    "token = get_client_token('PublicAccess', 'qPKIadEsoHjyh226Snz7')\n",
    "# print(token)"
   ]
  },
  {
   "cell_type": "markdown",
   "metadata": {},
   "source": [
    "Get metadata about the monitor(s)"
   ]
  },
  {
   "cell_type": "code",
   "execution_count": 8,
   "metadata": {},
   "outputs": [],
   "source": [
    "# data = get_assets(token)\n",
    "# json_normalize(data['content'])"
   ]
  },
  {
   "cell_type": "markdown",
   "metadata": {},
   "source": [
    "Get data from the monitor(s) and put into dataframe"
   ]
  },
  {
   "cell_type": "code",
   "execution_count": 9,
   "metadata": {},
   "outputs": [],
   "source": [
    "data = get_event_data(token)\n",
    "# Data Description\n",
    "# {'content': [{'locationUid': '3bf5ef59',\n",
    "#    'assetUid': '3ea8cf80-d265-4415-8496-d51afa72517d',\n",
    "#    'eventType': 'TFEVT',\n",
    "#    'timestamp': 1576360801785,\n",
    "#    'properties': {'speedUnit': 'METERS_PER_SEC',\n",
    "#     'eventUid': 'MTU3NjM2MDgwMTc4NQ==',\n",
    "#     'directionUnit': 'DEGREE',\n",
    "#     'counter_direction_vehicleType': 'small_vehicle',\n",
    "#     'vehicleType': 'small_vehicle'},\n",
    "#    'measures': {'counter_direction_speed': 9.228733757230481,\n",
    "#     'vehicleCount': 4.0,\n",
    "#     'counter_direction_vehicleCount': 6.0,\n",
    "#     'counter_direction': 268.0, --- This is West\n",
    "#     'speed': 10.045135174314495,\n",
    "#     'direction': 88.0}}, --- This is East\n",
    "df = pd.DataFrame(json_normalize(data['content']))[['measures.counter_direction', 'measures.counter_direction_speed',\\\n",
    "    'measures.counter_direction_vehicleCount', 'measures.direction', 'measures.speed', 'measures.vehicleCount',\\\n",
    "    'properties.counter_direction_vehicleType', 'properties.vehicleType', 'timestamp']]"
   ]
  },
  {
   "cell_type": "markdown",
   "metadata": {},
   "source": [
    "Separate East and West bound traffic excluding null data and stack the two sets with renamed columns"
   ]
  },
  {
   "cell_type": "code",
   "execution_count": 10,
   "metadata": {},
   "outputs": [],
   "source": [
    "df_west = df[df['measures.counter_direction_vehicleCount'] != 0][['measures.counter_direction', 'measures.counter_direction_speed',\\\n",
    "    'measures.counter_direction_vehicleCount','properties.counter_direction_vehicleType',\\\n",
    "    'timestamp']]\n",
    "df_west = df_west.rename(columns={'measures.counter_direction':'direction', 'measures.counter_direction_speed':'speed',\\\n",
    "    'measures.counter_direction_vehicleCount':'vehicleCount','properties.counter_direction_vehicleType':'vehicleType'})\n",
    "df_east = df[df['measures.vehicleCount'] != 0][['measures.direction', 'measures.speed',\\\n",
    "    'measures.vehicleCount', 'properties.vehicleType',\\\n",
    "    'timestamp']]\n",
    "df_east = df_east.rename(columns={'measures.direction':'direction', 'measures.speed':'speed',\\\n",
    "    'measures.vehicleCount':'vehicleCount', 'properties.vehicleType':'vehicleType'})     \n",
    "df_serial = pd.DataFrame()\n",
    "df_serial = df_serial.append(df_west, ignore_index=True)\n",
    "df_serial = df_serial.append(df_east, ignore_index=True)"
   ]
  },
  {
   "cell_type": "markdown",
   "metadata": {},
   "source": [
    "Convert meters per second to MPH and add readable local date/time"
   ]
  },
  {
   "cell_type": "code",
   "execution_count": 11,
   "metadata": {},
   "outputs": [],
   "source": [
    "df_serial['mph'] = df_serial['speed'].apply(lambda x: round(x * 2.23694))\n",
    "df_serial['datetime'] = pd.to_datetime(df_serial['timestamp'] * 1000000)\\\n",
    "    .dt.tz_localize('utc').dt.tz_convert('US/Pacific').dt.floor('s')\n",
    "df_serial['hour'] = df_serial['datetime'].dt.hour"
   ]
  },
  {
   "cell_type": "markdown",
   "metadata": {},
   "source": [
    "Group data by hour and remove extreme outliers"
   ]
  },
  {
   "cell_type": "code",
   "execution_count": 12,
   "metadata": {},
   "outputs": [],
   "source": [
    "# Removing outliers as possible data collection errors\n",
    "df_group = df_serial[df_serial.mph < 60].groupby(['hour','vehicleType','mph'], as_index=False)['vehicleCount'].sum()"
   ]
  },
  {
   "cell_type": "markdown",
   "metadata": {},
   "source": [
    "Rendering a relplot where:  \n",
    "- dot size = average number of vehicles in observation point for time and speed  \n",
    "- dot color = type of vehicle  \n",
    "- X/Y = speed and time of day  "
   ]
  },
  {
   "cell_type": "code",
   "execution_count": 20,
   "metadata": {},
   "outputs": [
    {
     "data": {
      "text/plain": [
       "Text(2, 25, 'Speed Limit')"
      ]
     },
     "execution_count": 20,
     "metadata": {},
     "output_type": "execute_result"
    }
   ],
   "source": [
    "sns.set_style(\"whitegrid\")\n",
    "g = sns.relplot(x=\"hour\", y=\"mph\", hue=\"vehicleType\", size=df_group[\"vehicleCount\"]/7,\n",
    "    sizes=(40, 400), alpha=.5, palette=\"muted\",\n",
    "    height=6, data=df_group)\n",
    "plt.xticks([0, 2, 4, 6, 8, 10, 12, 14, 16, 18, 20, 22, 24])\n",
    "plt.xlabel('Time of Day', fontsize=12)\n",
    "g.fig.set_size_inches(15,10)\n",
    "g.axes[0][0].axhline(y = 25, color='red', linewidth=2, alpha=.7)\n",
    "plt.text(2, 25, 'Speed Limit', fontsize=14, bbox=dict(facecolor='orange', alpha=1))"
   ]
  },
  {
   "cell_type": "markdown",
   "metadata": {},
   "source": [
    "Render a Swarmplot. This does not include third dimension of quantity of vehicles and each point is an observation (across 7 days) which is reasoable since a platoon of vehicles moving through the intersection will all have similar speeds."
   ]
  },
  {
   "cell_type": "code",
   "execution_count": 21,
   "metadata": {},
   "outputs": [
    {
     "data": {
      "text/plain": [
       "<matplotlib.axes._subplots.AxesSubplot at 0x12c1dd240>"
      ]
     },
     "execution_count": 21,
     "metadata": {},
     "output_type": "execute_result"
    }
   ],
   "source": [
    "sns.set(rc={'figure.figsize':(11.7,8.27)})\n",
    "sns.set_style(\"whitegrid\")\n",
    "ax = sns.swarmplot(x=\"hour\", y=\"mph\", hue=\"vehicleType\", data=df_group, size=8)\n",
    "ax.axes.axhline(y = 25, color='red', linewidth=2, alpha=.7, ls='-')\n",
    "ax.text(4, 25, 'Speed Limit', fontsize=14, bbox=dict(facecolor='orange', alpha=1))\n",
    "ax"
   ]
  },
  {
   "cell_type": "markdown",
   "metadata": {},
   "source": [
    "Create speed bins and render histogram for small vehicles only"
   ]
  },
  {
   "cell_type": "code",
   "execution_count": 25,
   "metadata": {},
   "outputs": [
    {
     "data": {
      "text/plain": [
       "Text(0, 0.5, 'Number of observations over 7 days')"
      ]
     },
     "execution_count": 25,
     "metadata": {},
     "output_type": "execute_result"
    }
   ],
   "source": [
    "bin_groups = [0,5,10,15,20,25,30,35,40,45,50,55,60]\n",
    "hist = df_group[df_group.vehicleType == 'small_vehicle'].hist(bins=bin_groups, column='mph', figsize=(12,8))\n",
    "plt.axvline(25, color='r', linestyle='dashed', linewidth=4)\n",
    "plt.text(21, 10, 'Speed Limit', fontsize=14, bbox=dict(facecolor='orange', alpha=1))\n",
    "plt.xlabel(\"Small Vehicle Speed Distribution\", fontdict=None, labelpad=None)\n",
    "plt.ylabel(\"Number of observations over 7 days\", fontdict=None, labelpad=None)"
   ]
  },
  {
   "cell_type": "markdown",
   "metadata": {},
   "source": [
    "Box plot the overall data"
   ]
  },
  {
   "cell_type": "code",
   "execution_count": 26,
   "metadata": {},
   "outputs": [
    {
     "data": {
      "text/plain": [
       "<matplotlib.axes._subplots.AxesSubplot at 0x12c62b240>"
      ]
     },
     "execution_count": 26,
     "metadata": {},
     "output_type": "execute_result"
    }
   ],
   "source": [
    "ax = sns.boxplot(x=\"vehicleType\", y=\"mph\", data=df_group)\n",
    "plt.text(0.4, 25, 'Speed Limit', fontsize=14, bbox=dict(facecolor='orange', alpha=1))\n",
    "ax.axes.axhline(y = 25, color='red', linewidth=2, alpha=.7, ls='--')\n",
    "ax"
   ]
  },
  {
   "cell_type": "markdown",
   "metadata": {},
   "source": [
    "Table of vehicle counts by size and over/under speed limit."
   ]
  },
  {
   "cell_type": "code",
   "execution_count": 17,
   "metadata": {},
   "outputs": [
    {
     "data": {
      "text/html": [
       "<div>\n",
       "<style scoped>\n",
       "    .dataframe tbody tr th:only-of-type {\n",
       "        vertical-align: middle;\n",
       "    }\n",
       "\n",
       "    .dataframe tbody tr th {\n",
       "        vertical-align: top;\n",
       "    }\n",
       "\n",
       "    .dataframe thead th {\n",
       "        text-align: right;\n",
       "    }\n",
       "</style>\n",
       "<table border=\"1\" class=\"dataframe\">\n",
       "  <thead>\n",
       "    <tr style=\"text-align: right;\">\n",
       "      <th></th>\n",
       "      <th>vehicleType</th>\n",
       "      <th>speedLimit</th>\n",
       "      <th>vehicleCount</th>\n",
       "    </tr>\n",
       "  </thead>\n",
       "  <tbody>\n",
       "    <tr>\n",
       "      <th>0</th>\n",
       "      <td>large_vehicle</td>\n",
       "      <td>under</td>\n",
       "      <td>338.0</td>\n",
       "    </tr>\n",
       "    <tr>\n",
       "      <th>1</th>\n",
       "      <td>large_vehicle</td>\n",
       "      <td>over</td>\n",
       "      <td>113.0</td>\n",
       "    </tr>\n",
       "    <tr>\n",
       "      <th>2</th>\n",
       "      <td>small_vehicle</td>\n",
       "      <td>under</td>\n",
       "      <td>20706.0</td>\n",
       "    </tr>\n",
       "    <tr>\n",
       "      <th>3</th>\n",
       "      <td>small_vehicle</td>\n",
       "      <td>over</td>\n",
       "      <td>4123.0</td>\n",
       "    </tr>\n",
       "  </tbody>\n",
       "</table>\n",
       "</div>"
      ],
      "text/plain": [
       "     vehicleType speedLimit  vehicleCount\n",
       "0  large_vehicle      under         338.0\n",
       "1  large_vehicle       over         113.0\n",
       "2  small_vehicle      under       20706.0\n",
       "3  small_vehicle       over        4123.0"
      ]
     },
     "execution_count": 17,
     "metadata": {},
     "output_type": "execute_result"
    }
   ],
   "source": [
    "df_summary = df_group.groupby(['vehicleType',df_group.mph > 25], as_index=True)['vehicleCount'].sum()\n",
    "df_summary = df_summary.to_frame().stack().reset_index().rename(columns={'mph': 'speedLimit', 'level_2': 'toss', 0: 'vehicleCount'})\n",
    "del df_summary['toss']\n",
    "df_summary = df_summary.replace({'speedLimit': {False: 'under', True: 'over'}})\n",
    "df_summary"
   ]
  },
  {
   "cell_type": "markdown",
   "metadata": {},
   "source": [
    "Table of vehicles over speed limit by percentage."
   ]
  },
  {
   "cell_type": "code",
   "execution_count": 18,
   "metadata": {},
   "outputs": [
    {
     "data": {
      "text/html": [
       "<div>\n",
       "<style scoped>\n",
       "    .dataframe tbody tr th:only-of-type {\n",
       "        vertical-align: middle;\n",
       "    }\n",
       "\n",
       "    .dataframe tbody tr th {\n",
       "        vertical-align: top;\n",
       "    }\n",
       "\n",
       "    .dataframe thead th {\n",
       "        text-align: right;\n",
       "    }\n",
       "</style>\n",
       "<table border=\"1\" class=\"dataframe\">\n",
       "  <thead>\n",
       "    <tr style=\"text-align: right;\">\n",
       "      <th></th>\n",
       "      <th>vehicleType</th>\n",
       "      <th>overSpeedLimit</th>\n",
       "    </tr>\n",
       "  </thead>\n",
       "  <tbody>\n",
       "    <tr>\n",
       "      <th>0</th>\n",
       "      <td>large_vehicle</td>\n",
       "      <td>0.25</td>\n",
       "    </tr>\n",
       "    <tr>\n",
       "      <th>1</th>\n",
       "      <td>small_vehicle</td>\n",
       "      <td>0.17</td>\n",
       "    </tr>\n",
       "  </tbody>\n",
       "</table>\n",
       "</div>"
      ],
      "text/plain": [
       "     vehicleType  overSpeedLimit\n",
       "0  large_vehicle            0.25\n",
       "1  small_vehicle            0.17"
      ]
     },
     "execution_count": 18,
     "metadata": {},
     "output_type": "execute_result"
    }
   ],
   "source": [
    "var1 = df_summary.loc[(df_summary['vehicleType'] == 'large_vehicle') & (df_summary['speedLimit'] == 'over')].iloc[0,2]\n",
    "var2 = df_summary.loc[(df_summary['vehicleType'] == 'large_vehicle') & (df_summary['speedLimit'] == 'under')].iloc[0,2]\n",
    "var3 = df_summary.loc[(df_summary['vehicleType'] == 'small_vehicle') & (df_summary['speedLimit'] == 'over')].iloc[0,2]\n",
    "var4 = df_summary.loc[(df_summary['vehicleType'] == 'small_vehicle') & (df_summary['speedLimit'] == 'under')].iloc[0,2]\n",
    "\n",
    "data = [['large_vehicle', round((var1/(var1 + var2)),2)], ['small_vehicle', round((var3/(var3 + var4)),2)]] \n",
    "df_pcnt = pd.DataFrame(data, columns = ['vehicleType', 'overSpeedLimit']) \n",
    "\n",
    "df_pcnt"
   ]
  },
  {
   "cell_type": "code",
   "execution_count": 19,
   "metadata": {},
   "outputs": [
    {
     "data": {
      "text/plain": [
       "<matplotlib.axes._subplots.AxesSubplot at 0x123d13518>"
      ]
     },
     "execution_count": 19,
     "metadata": {},
     "output_type": "execute_result"
    }
   ],
   "source": [
    "plt.figure(figsize=(15,6))\n",
    "ax = sns.boxplot(x=\"hour\", y=\"mph\", hue=\"vehicleType\", data=df_group)\n",
    "ax.axes.axhline(y = 25, color='red', linewidth=2, alpha=.7, ls='--')\n",
    "plt.text(-3, 25, 'Speed Limit', fontsize=14, bbox=dict(facecolor='orange', alpha=.5))\n",
    "ax"
   ]
  }
 ],
 "metadata": {
  "kernelspec": {
   "display_name": "Python 3",
   "language": "python",
   "name": "python3"
  },
  "language_info": {
   "codemirror_mode": {
    "name": "ipython",
    "version": 3
   },
   "file_extension": ".py",
   "mimetype": "text/x-python",
   "name": "python",
   "nbconvert_exporter": "python",
   "pygments_lexer": "ipython3",
   "version": "3.7.3"
  }
 },
 "nbformat": 4,
 "nbformat_minor": 2
}
